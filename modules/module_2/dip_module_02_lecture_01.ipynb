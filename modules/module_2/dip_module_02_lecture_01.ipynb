{
 "cells": [
  {
   "cell_type": "code",
   "execution_count": 1,
   "id": "9f45715a-6409-425c-8ede-9d3efdce4b05",
   "metadata": {},
   "outputs": [],
   "source": [
    "import numpy as np\n",
    "import matplotlib.pyplot as plt"
   ]
  },
  {
   "cell_type": "code",
   "execution_count": 8,
   "id": "a3f14892-f7d2-4639-900d-95e253974e01",
   "metadata": {},
   "outputs": [],
   "source": [
    "a,b,c = 2,4,6\n",
    "v1 = np.array([a,b,c]) ##vectors\n",
    "v2 = np.array([1,0,1])\n",
    "v3 = np.array([2,3,7])\n",
    "v4 = np.array([1,1,1])"
   ]
  },
  {
   "cell_type": "code",
   "execution_count": 10,
   "id": "af255658-8b94-4e2a-83f1-37059718266e",
   "metadata": {},
   "outputs": [],
   "source": [
    "A = np.array([v1, v2, v3, v4])\n",
    "B = np.array([v2,v2,v3,v4])"
   ]
  },
  {
   "cell_type": "code",
   "execution_count": 11,
   "id": "ed5ac6f4-ab66-4e05-994e-4bf7cccefcb4",
   "metadata": {},
   "outputs": [
    {
     "data": {
      "text/plain": [
       "array([[[2, 4, 6],\n",
       "        [1, 0, 1],\n",
       "        [2, 3, 7],\n",
       "        [1, 1, 1]],\n",
       "\n",
       "       [[1, 0, 1],\n",
       "        [1, 0, 1],\n",
       "        [2, 3, 7],\n",
       "        [1, 1, 1]]])"
      ]
     },
     "execution_count": 11,
     "metadata": {},
     "output_type": "execute_result"
    }
   ],
   "source": [
    "T1 = np.array([A,B])\n",
    "T1"
   ]
  },
  {
   "cell_type": "markdown",
   "id": "08d5bca1-f3da-45e0-8c62-020f3961685f",
   "metadata": {},
   "source": [
    "T1.shape"
   ]
  },
  {
   "cell_type": "markdown",
   "id": "07de6e66-bb4c-4578-b94c-91549cf45812",
   "metadata": {},
   "source": [
    "## Matrix Algebra"
   ]
  },
  {
   "cell_type": "markdown",
   "id": "dbf45e52-adb5-4397-82b8-a2549e5588c3",
   "metadata": {},
   "source": [
    "### Types of Matrices"
   ]
  },
  {
   "cell_type": "code",
   "execution_count": 24,
   "id": "ff388360-2916-40fc-b55c-c66744cc2f6b",
   "metadata": {},
   "outputs": [
    {
     "data": {
      "text/plain": [
       "array([[1, 2, 3]])"
      ]
     },
     "execution_count": 24,
     "metadata": {},
     "output_type": "execute_result"
    }
   ],
   "source": [
    "### Row and Column Matrices\n",
    "row_mat = np.array([[1,2,3]])\n",
    "row_mat"
   ]
  },
  {
   "cell_type": "code",
   "execution_count": 31,
   "id": "d54bd946-8ead-4b97-838a-afb0955ef030",
   "metadata": {},
   "outputs": [
    {
     "data": {
      "text/plain": [
       "array([[1., 0., 0., 0.],\n",
       "       [0., 1., 0., 0.],\n",
       "       [0., 0., 1., 0.],\n",
       "       [0., 0., 0., 1.]])"
      ]
     },
     "execution_count": 31,
     "metadata": {},
     "output_type": "execute_result"
    }
   ],
   "source": [
    "## identity matrix\n",
    "np.identity(4) ## np.eye()"
   ]
  },
  {
   "cell_type": "code",
   "execution_count": 32,
   "id": "c3628374-1886-4ed5-bb3e-e67c4b81189f",
   "metadata": {},
   "outputs": [
    {
     "data": {
      "text/plain": [
       "array([[5., 0., 0., 0., 0.],\n",
       "       [0., 5., 0., 0., 0.],\n",
       "       [0., 0., 5., 0., 0.],\n",
       "       [0., 0., 0., 5., 0.],\n",
       "       [0., 0., 0., 0., 5.]])"
      ]
     },
     "execution_count": 32,
     "metadata": {},
     "output_type": "execute_result"
    }
   ],
   "source": [
    "## scalar matrices\n",
    "5 * np.eye(5)"
   ]
  },
  {
   "cell_type": "code",
   "execution_count": 33,
   "id": "8c1e634c-efda-4f5e-99c6-29c45ba3e153",
   "metadata": {},
   "outputs": [
    {
     "data": {
      "text/plain": [
       "array([[1., 1., 1.],\n",
       "       [1., 1., 1.],\n",
       "       [1., 1., 1.]])"
      ]
     },
     "execution_count": 33,
     "metadata": {},
     "output_type": "execute_result"
    }
   ],
   "source": [
    "np.ones((3,3))"
   ]
  },
  {
   "cell_type": "code",
   "execution_count": 34,
   "id": "c731ebde-f110-47e8-b068-1f993341d245",
   "metadata": {},
   "outputs": [
    {
     "data": {
      "text/plain": [
       "array([[0., 0., 0.],\n",
       "       [0., 0., 0.],\n",
       "       [0., 0., 0.]])"
      ]
     },
     "execution_count": 34,
     "metadata": {},
     "output_type": "execute_result"
    }
   ],
   "source": [
    "np.zeros((3,3))"
   ]
  },
  {
   "cell_type": "markdown",
   "id": "f109b9bf-660f-4411-871c-3022d7f2f8d9",
   "metadata": {},
   "source": [
    "## Arithmetic"
   ]
  },
  {
   "cell_type": "code",
   "execution_count": 37,
   "id": "6fbdbc69-6b31-468d-a67b-c734c9fba7a4",
   "metadata": {},
   "outputs": [],
   "source": [
    "A = np.array([\n",
    "    [1,3],\n",
    "    [-2,0]])\n",
    "B = np.array([\n",
    "    [0,1],\n",
    "    [1,2]])"
   ]
  },
  {
   "cell_type": "code",
   "execution_count": 43,
   "id": "c6fe627b-7786-4b19-ae01-8d784bb3e568",
   "metadata": {},
   "outputs": [
    {
     "data": {
      "text/plain": [
       "array([[ 1.e+06,  2.e+00],\n",
       "       [-2.e+00,  0.e+00]])"
      ]
     },
     "execution_count": 43,
     "metadata": {},
     "output_type": "execute_result"
    }
   ],
   "source": [
    "A // (B+1e-6)"
   ]
  },
  {
   "cell_type": "markdown",
   "id": "86f63515-fa90-4970-a8d1-f43790514592",
   "metadata": {},
   "source": [
    "## Inner Product"
   ]
  },
  {
   "cell_type": "code",
   "execution_count": 47,
   "id": "bb1dfe42-b846-4a01-b50a-72d2b3ce22b9",
   "metadata": {},
   "outputs": [
    {
     "data": {
      "text/plain": [
       "array([[ 1.,  3.],\n",
       "       [-2.,  0.]])"
      ]
     },
     "execution_count": 47,
     "metadata": {},
     "output_type": "execute_result"
    }
   ],
   "source": [
    "A @ np.eye(2)"
   ]
  },
  {
   "cell_type": "markdown",
   "id": "0c40a2f0-42e8-4bc5-b2b2-697389723827",
   "metadata": {},
   "source": [
    "## Linear Transformation"
   ]
  },
  {
   "cell_type": "code",
   "execution_count": 51,
   "id": "3b780599-9321-4ad9-aa8b-802aeb05674b",
   "metadata": {},
   "outputs": [],
   "source": [
    "## shears, rotations, some scaling operations"
   ]
  },
  {
   "cell_type": "code",
   "execution_count": 54,
   "id": "08975d96-0ee8-4100-8270-5bda4a15bc76",
   "metadata": {},
   "outputs": [],
   "source": []
  },
  {
   "cell_type": "code",
   "execution_count": 81,
   "id": "6d624eb2-47ec-4fd5-8899-b3b8ccf05728",
   "metadata": {},
   "outputs": [],
   "source": [
    "def rot_matrix(theta):\n",
    "    theta = np.deg2rad(theta)\n",
    "    rot_mat = np.array([\n",
    "        [np.cos(theta), -np.sin(theta)],\n",
    "        [np.sin(theta), np.cos(theta)]\n",
    "    ])\n",
    "    return rot_mat"
   ]
  },
  {
   "cell_type": "code",
   "execution_count": 85,
   "id": "ab425833-70b9-4659-852b-77e0d18a36f2",
   "metadata": {},
   "outputs": [
    {
     "data": {
      "image/png": "[encoded data removed]",
      "text/plain": [
       "<Figure size 640x480 with 1 Axes>"
      ]
     },
     "metadata": {},
     "output_type": "display_data"
    }
   ],
   "source": [
    "A = np.array([[1,0],[0,1]])\n",
    "T = rot_matrix(45)\n",
    "Y = A@T\n",
    "plt.quiver([0,0],[0,0], A[0,:], A[1,:],\n",
    "               angles='xy', scale_units='xy',scale=1, \n",
    "               color=['red','blue'])## use column spaces\n",
    "plt.quiver([0,0],[0,0], Y[0,:], Y[1,:], \n",
    "               angles='xy', scale_units='xy',scale=1, \n",
    "               color=['orange','cyan'])## use column spaces\n",
    "\n",
    "plt.xlim(-2,2)\n",
    "plt.ylim(-2,2)\n",
    "plt.grid()"
   ]
  },
  {
   "cell_type": "code",
   "execution_count": 84,
   "id": "8cddc98a-ac0e-46d7-a9c1-e51ef7695dc9",
   "metadata": {},
   "outputs": [
    {
     "data": {
      "text/plain": [
       "array([[-1.0000000e+00, -1.2246468e-16],\n",
       "       [ 1.2246468e-16, -1.0000000e+00]])"
      ]
     },
     "execution_count": 84,
     "metadata": {},
     "output_type": "execute_result"
    }
   ],
   "source": [
    "T"
   ]
  },
  {
   "cell_type": "code",
   "execution_count": 86,
   "id": "26217f5a-dcc3-4047-9e77-b94a9f10eeba",
   "metadata": {},
   "outputs": [
    {
     "data": {
      "text/plain": [
       "array([[ 0.70710678,  0.70710678],\n",
       "       [-0.70710678,  0.70710678]])"
      ]
     },
     "execution_count": 86,
     "metadata": {},
     "output_type": "execute_result"
    }
   ],
   "source": [
    "np.linalg.inv(T)"
   ]
  },
  {
   "cell_type": "code",
   "execution_count": null,
   "id": "28484f7e-2eba-482f-a9bc-5e24c085b4c8",
   "metadata": {},
   "outputs": [],
   "source": [
    "np.pi #pi\n",
    "np.sqrt # sqrt\n"
   ]
  },
  {
   "cell_type": "code",
   "execution_count": 92,
   "id": "89dd5006-ccf6-4ccf-a733-f78fe69ae9e2",
   "metadata": {},
   "outputs": [],
   "source": [
    "U = np.array([\n",
    "    [np.pi, -2*np.pi],\n",
    "    [np.sqrt(np.pi), 12/13]\n",
    "])\n",
    "X = np.array([[0,1],[1,0]])\n",
    "Y = np.array([[0,1], [-1,0]])"
   ]
  },
  {
   "cell_type": "code",
   "execution_count": null,
   "id": "e182ae12-6103-4755-a9c6-c2e792a11d84",
   "metadata": {},
   "outputs": [],
   "source": [
    "G1 = (X+Y) @ U\n",
    "G2 = (X+Y).T @ (U + 3*np.eye(2))\n",
    "G3 = np.linalg.inv((X+Y)@(X+Y).T) @ U"
   ]
  },
  {
   "cell_type": "code",
   "execution_count": 97,
   "id": "2352a931-14ad-49db-8265-80bdc4c2d61a",
   "metadata": {},
   "outputs": [
    {
     "data": {
      "text/plain": [
       "<matplotlib.image.AxesImage at 0x24b32b62020>"
      ]
     },
     "execution_count": 97,
     "metadata": {},
     "output_type": "execute_result"
    },
    {
     "data": {
      "image/png": "[encoded data removed]",
      "text/plain": [
       "<Figure size 640x480 with 1 Axes>"
      ]
     },
     "metadata": {},
     "output_type": "display_data"
    }
   ],
   "source": [
    "img1 = np.ones((4,4))\n",
    "img2 = np.eye((4)) \n",
    "img3 = np.array([\n",
    "    [1, 3/4],\n",
    "    [2/4, 0]])\n",
    "plt.imshow(img3, cmap='gray')"
   ]
  },
  {
   "cell_type": "code",
   "execution_count": 100,
   "id": "95eb9d58-2da9-4c22-a872-975b5b01aa83",
   "metadata": {},
   "outputs": [
    {
     "data": {
      "text/plain": [
       "<matplotlib.image.AxesImage at 0x24b34332ce0>"
      ]
     },
     "execution_count": 100,
     "metadata": {},
     "output_type": "execute_result"
    },
    {
     "data": {
      "image/png": "[encoded data removed]",
      "text/plain": [
       "<Figure size 640x480 with 1 Axes>"
      ]
     },
     "metadata": {},
     "output_type": "display_data"
    }
   ],
   "source": [
    "img3 = np.array([\n",
    "    [1, 3/4],\n",
    "    [2/4, 0]])\n",
    "plt.imshow(rot_matrix(45) @ img3, cmap='gray')"
   ]
  },
  {
   "cell_type": "code",
   "execution_count": 104,
   "id": "4500f706-a871-4559-abbb-6ba59f0d8ef7",
   "metadata": {},
   "outputs": [
    {
     "data": {
      "text/plain": [
       "True"
      ]
     },
     "execution_count": 104,
     "metadata": {},
     "output_type": "execute_result"
    }
   ],
   "source": [
    "X = np.array([[-1,0],[0,-1]])\n",
    "np.allclose(X, rot_matrix(180) @ np.eye(2))"
   ]
  }
 ],
 "metadata": {
  "kernelspec": {
   "display_name": "Python 3 (ipykernel)",
   "language": "python",
   "name": "python3"
  },
  "language_info": {
   "codemirror_mode": {
    "name": "ipython",
    "version": 3
   },
   "file_extension": ".py",
   "mimetype": "text/x-python",
   "name": "python",
   "nbconvert_exporter": "python",
   "pygments_lexer": "ipython3",
   "version": "3.10.13"
  }
 },
 "nbformat": 4,
 "nbformat_minor": 5
}
